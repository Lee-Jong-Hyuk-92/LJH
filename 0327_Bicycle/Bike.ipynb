{
 "cells": [
  {
   "cell_type": "code",
   "execution_count": null,
   "metadata": {},
   "outputs": [],
   "source": [
    "import pandas as pd\n",
    "import matplotlib.pyplot as plt\n",
    "import seaborn as sns"
   ]
  },
  {
   "cell_type": "code",
   "execution_count": null,
   "metadata": {},
   "outputs": [],
   "source": [
    "df = pd.read_csv(\"train.csv\")\n",
    "df"
   ]
  },
  {
   "cell_type": "markdown",
   "metadata": {},
   "source": [
    "데이터 분석\n",
    "\n",
    "datetime 연 월 일 시 나눠서 count 비교\n",
    "\n",
    "season count 비교 -> 겨울은 적고 봄 여름이 많을걸로 예상\n",
    "\n",
    "holiday count 비교, workingday와 다른 패턴이지 않을까 예상\n",
    "\n",
    "workingday count 비교, 아침 저녁 많을듯\n",
    "\n",
    "weather 1이면 화창, 숫자가 커지면 폭우,폭설 -> 1이 가장 많고 숫자가 크면 낮을것으로 예상\n",
    "\n",
    "temp 실제 섭씨 온도 -> 적당한 온도 범위내에서(15~25도) 많고 그이상 이하이면 낮을것으로 예상\n",
    "\n",
    "atemp 체감 섭씨 온도, 높으면 덥다고 낮으면 춥다고 느낌, temp와 비슷할거로 예상, 두개가 너무 비슷하면 하나 지우기\n",
    "\n",
    "humidity 습도, 크면 짜증 -> 일정 수준을 넘어가면 불쾌지수가 높아지니까 낮게 예상\n",
    "\n",
    "windspeed 풍속, 크면 바람 많이부는날 -> 일정 풍속을 넘어서면 count 낮게 예상\n",
    "\n",
    "casual 비등록 대여 수\n",
    "\n",
    "registered 등록 대여 수\n",
    "\n",
    "count 비등록+등록 대여 총합, Target, casual+registered = count이므로 두개 삭제, 전체 수요예측이니까"
   ]
  },
  {
   "cell_type": "code",
   "execution_count": null,
   "metadata": {},
   "outputs": [],
   "source": [
    "df.drop(['casual', 'registered'], axis=1, inplace=True)\n",
    "df.info()"
   ]
  },
  {
   "cell_type": "markdown",
   "metadata": {},
   "source": [
    "datetime 형변환 필요"
   ]
  },
  {
   "cell_type": "code",
   "execution_count": null,
   "metadata": {},
   "outputs": [],
   "source": [
    "# datetime열 object에서 datetime type으로 변환, 분리\n",
    "df['datetime'] = pd.to_datetime(df['datetime'])\n",
    "df['year'] = df['datetime'].dt.year\n",
    "df['month'] = df['datetime'].dt.month\n",
    "df['day'] = df['datetime'].dt.day\n",
    "df['hour'] = df['datetime'].dt.hour"
   ]
  },
  {
   "cell_type": "code",
   "execution_count": null,
   "metadata": {},
   "outputs": [],
   "source": [
    "plt.xticks(rotation=45)\n",
    "sns.boxplot(x='year', y='count', data = df)\n",
    "\n",
    "df['year'].value_counts()"
   ]
  },
  {
   "cell_type": "code",
   "execution_count": null,
   "metadata": {},
   "outputs": [],
   "source": [
    "sns.boxplot(x='month', y='count', data = df)\n",
    "df['month'].value_counts()"
   ]
  },
  {
   "cell_type": "code",
   "execution_count": null,
   "metadata": {},
   "outputs": [],
   "source": [
    "sns.boxplot(x='day', y='count', data = df)"
   ]
  },
  {
   "cell_type": "code",
   "execution_count": null,
   "metadata": {},
   "outputs": [],
   "source": [
    "df['day'].value_counts()"
   ]
  },
  {
   "cell_type": "code",
   "execution_count": null,
   "metadata": {},
   "outputs": [],
   "source": [
    "plt.xticks(rotation=45)\n",
    "sns.barplot(x='hour', y='count', data = df)"
   ]
  },
  {
   "cell_type": "markdown",
   "metadata": {},
   "source": [
    "dat count를 plot 해봤을때 20~31이 없어서 value_count로 확인해보니 실제로없음.\n",
    "\n",
    "test.csv에 들어있을것 같다.\n",
    "\n",
    "year 증가 count 증가, 상관 많지는 않은듯\n",
    "\n",
    "month 4 ~ 12 비슷, 1 ~ 3 살짝 낮음\n",
    "\n",
    "day 별차이 없음"
   ]
  },
  {
   "cell_type": "code",
   "execution_count": null,
   "metadata": {},
   "outputs": [],
   "source": [
    "# season count 비교\n",
    "sns.boxplot(x='season', y='count', data=df)"
   ]
  },
  {
   "cell_type": "code",
   "execution_count": null,
   "metadata": {},
   "outputs": [],
   "source": [
    "# holiday 분석\n",
    "sns.boxplot(x='holiday', y='count', data=df)"
   ]
  },
  {
   "cell_type": "code",
   "execution_count": null,
   "metadata": {},
   "outputs": [],
   "source": [
    "# workingday 분석\n",
    "sns.barplot(x='workingday', y='count', data=df)"
   ]
  },
  {
   "cell_type": "code",
   "execution_count": null,
   "metadata": {},
   "outputs": [],
   "source": [
    "# holiday 기준: hour별 평균 count\n",
    "holiday_group = df[df['holiday'] == 1].groupby('hour')['count'].mean().reset_index()\n",
    "holiday_group['type'] = 'Holiday'\n",
    "\n",
    "# workingday 기준: hour별 평균 count\n",
    "workingday_group = df[df['workingday'] == 1].groupby('hour')['count'].mean().reset_index()\n",
    "workingday_group['type'] = 'Workingday'\n",
    "\n",
    "# 두 데이터프레임 합치기\n",
    "compare_df = pd.concat([holiday_group, workingday_group])\n",
    "\n",
    "# 시각화\n",
    "plt.figure(figsize=(12, 6))\n",
    "sns.lineplot(data=compare_df, x='hour', y='count', hue='type', marker='o')\n",
    "plt.title('Workingday vs Holiday')\n",
    "plt.xlabel('Hour')\n",
    "plt.ylabel('Average Count')\n",
    "plt.grid(True)\n",
    "plt.xticks(range(0, 24))\n",
    "plt.legend(title='Day Type')\n",
    "plt.show()"
   ]
  },
  {
   "cell_type": "markdown",
   "metadata": {},
   "source": [
    "workingday holiday는 각각 보면 별 의미 없는것 같아 보이는데 같이 비교해보니 시간대별로 차이가 있음\n",
    "\n",
    "삭제 X"
   ]
  },
  {
   "cell_type": "code",
   "execution_count": null,
   "metadata": {},
   "outputs": [],
   "source": [
    "# weather 분석\n",
    "sns.boxplot(x='weather', y='count', data=df)"
   ]
  },
  {
   "cell_type": "code",
   "execution_count": null,
   "metadata": {},
   "outputs": [],
   "source": [
    "# weather 기준: hour별 평균 count\n",
    "weather_group1 = df[df['weather'] == 1].groupby('hour')['count'].mean().reset_index()\n",
    "weather_group1['type'] = '1'\n",
    "\n",
    "weather_group2 = df[df['weather'] == 2].groupby('hour')['count'].mean().reset_index()\n",
    "weather_group2['type'] = '2'\n",
    "\n",
    "weather_group3 = df[df['weather'] == 3].groupby('hour')['count'].mean().reset_index()\n",
    "weather_group3['type'] = '3'\n",
    "\n",
    "weather_group4 = df[df['weather'] == 4].groupby('hour')['count'].mean().reset_index()\n",
    "weather_group4['type'] = '4'"
   ]
  },
  {
   "cell_type": "code",
   "execution_count": null,
   "metadata": {},
   "outputs": [],
   "source": [
    "compare_df = pd.concat([weather_group1, weather_group2, weather_group3, weather_group4])\n",
    "\n",
    "# 시각화\n",
    "plt.figure(figsize=(12, 6))\n",
    "sns.lineplot(data=compare_df, x='hour', y='count', hue='type', marker='o')\n",
    "plt.title('Weather')\n",
    "plt.xlabel('Hour')\n",
    "plt.ylabel('Average Count')\n",
    "plt.grid(True)\n",
    "plt.xticks(range(0, 24))\n",
    "plt.legend(title='Day Type')\n",
    "plt.show()"
   ]
  },
  {
   "cell_type": "markdown",
   "metadata": {},
   "source": [
    "weather 4일때는 거의 타지 않는다"
   ]
  },
  {
   "cell_type": "code",
   "execution_count": null,
   "metadata": {},
   "outputs": [],
   "source": [
    "# temp 분석\n",
    "print(df['temp'].describe())\n",
    "\n",
    "# 구간 나누기\n",
    "bins = [0, 5, 10, 15, 20, 25, 30, 35, 42]  # 임의 범위 설정\n",
    "labels = ['0', '1', '2', '3', '4','5','6','7']\n",
    "\n",
    "# 구간 컬럼 생성\n",
    "df['temp_bin'] = pd.cut(df['temp'], bins=bins, labels=labels)\n",
    "\n",
    "plt.figure(figsize=(10, 5))\n",
    "sns.barplot(x='temp_bin', y='count', data=df, order=labels)  # order로 순서 유지\n",
    "plt.title('temp / Count')\n",
    "plt.xlabel('temp Group')\n",
    "plt.ylabel('Count')\n",
    "plt.show()"
   ]
  },
  {
   "cell_type": "code",
   "execution_count": null,
   "metadata": {},
   "outputs": [],
   "source": [
    "# atemp 분석\n",
    "print(df['atemp'].describe())\n",
    "\n",
    "# 구간 나누기\n",
    "bins = [0,5,10,15,20,25,30,35,40,50]  # 임의의 넉넉한 범위 설정\n",
    "labels = ['0', '1', '2', '3', '4','5','6','7','8']\n",
    "\n",
    "# 구간 컬럼 생성\n",
    "df['atemp_bin'] = pd.cut(df['atemp'], bins=bins, labels=labels)\n",
    "\n",
    "plt.figure(figsize=(10, 5))\n",
    "sns.barplot(x='atemp_bin', y='count', data=df, order=labels)  # order로 순서 유지\n",
    "plt.title('atemp / Count')\n",
    "plt.xlabel('atemp Group')\n",
    "plt.ylabel('Count')\n",
    "plt.show()"
   ]
  },
  {
   "cell_type": "code",
   "execution_count": null,
   "metadata": {},
   "outputs": [],
   "source": [
    "# humidity 분석\n",
    "print(df['humidity'].describe())\n",
    "\n",
    "# 구간 나누기\n",
    "bins = [-1,10,20,30,40,50,60,70,80,90,100]  # 임의의 넉넉한 범위 설정\n",
    "labels = ['0', '1', '2', '3', '4','5','6','7','8','9']\n",
    "\n",
    "# 구간 컬럼 생성\n",
    "df['humidity_bin'] = pd.cut(df['humidity'], bins=bins, labels=labels)\n",
    "\n",
    "plt.figure(figsize=(10, 5))\n",
    "sns.barplot(x='humidity_bin', y='count', data=df, order=labels)  # order로 순서 유지\n",
    "plt.title('humidity / Count')\n",
    "plt.xlabel('humidity Group')\n",
    "plt.ylabel('Count')\n",
    "plt.show()"
   ]
  },
  {
   "cell_type": "code",
   "execution_count": null,
   "metadata": {},
   "outputs": [],
   "source": [
    "# windspeed 분석\n",
    "print(df['windspeed'].describe())\n",
    "\n",
    "# 구간 나누기\n",
    "bins = [-5,6,20,29,39,49,61]  # 임의 범위 설정\n",
    "labels = ['0', '2', '4', '5', '6','7']\n",
    "\n",
    "# 구간 컬럼 생성\n",
    "df['windspeed_bin'] = pd.cut(df['windspeed'], bins=bins, labels=labels)\n",
    "\n",
    "plt.figure(figsize=(10, 5))\n",
    "sns.barplot(x='windspeed_bin', y='count', data=df, order=labels)  # order로 순서 유지\n",
    "plt.title('windspeed / Count')\n",
    "plt.xlabel('windspeed Group')\n",
    "plt.ylabel('Count')\n",
    "plt.show()"
   ]
  },
  {
   "cell_type": "code",
   "execution_count": null,
   "metadata": {},
   "outputs": [],
   "source": [
    "df.drop(['datetime', 'atemp'], axis=1, inplace=True) # 삭제"
   ]
  },
  {
   "cell_type": "code",
   "execution_count": null,
   "metadata": {},
   "outputs": [],
   "source": [
    "# 그룹별 평균 count 계산\n",
    "grouped_hd = df.groupby(['holiday', 'hour'])['count'].mean().reset_index()\n",
    "\n",
    "# 시각화\n",
    "plt.figure(figsize=(10, 5))\n",
    "sns.barplot(data=grouped_hd, x='hour', y='count', hue='holiday')\n",
    "plt.title('Compare workingday and holiday')\n",
    "plt.xlabel('Hour')\n",
    "plt.ylabel('Count')\n",
    "plt.legend(title='0 : workingday,\\n1 : Holiday')\n",
    "plt.grid(True)\n",
    "plt.show()"
   ]
  },
  {
   "cell_type": "markdown",
   "metadata": {},
   "source": [
    "test.csv 이후 결과 제출시 양식은 아래와 같다\n",
    "\n",
    "datetime,count\n",
    "\n",
    "2011-01-20 00:00:00,0\n",
    "\n",
    "2011-01-20 01:00:00,0\n",
    "\n",
    "2011-01-20 02:00:00,0\n",
    "\n",
    "2011-01-20 03:00:00,0\n",
    "\n",
    "2011-01-20 04:00:00,0\n",
    "\n",
    "2011-01-20 05:00:00,0\n",
    "\n",
    "2011-01-20 06:00:00,0"
   ]
  }
 ],
 "metadata": {
  "kernelspec": {
   "display_name": "base",
   "language": "python",
   "name": "python3"
  },
  "language_info": {
   "codemirror_mode": {
    "name": "ipython",
    "version": 3
   },
   "file_extension": ".py",
   "mimetype": "text/x-python",
   "name": "python",
   "nbconvert_exporter": "python",
   "pygments_lexer": "ipython3",
   "version": "3.12.7"
  }
 },
 "nbformat": 4,
 "nbformat_minor": 2
}
