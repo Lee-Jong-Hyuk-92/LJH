{
 "cells": [
  {
   "cell_type": "code",
   "execution_count": 18,
   "metadata": {},
   "outputs": [],
   "source": [
    "import pandas as pd"
   ]
  },
  {
   "cell_type": "code",
   "execution_count": 19,
   "metadata": {},
   "outputs": [
    {
     "data": {
      "text/html": [
       "<div>\n",
       "<style scoped>\n",
       "    .dataframe tbody tr th:only-of-type {\n",
       "        vertical-align: middle;\n",
       "    }\n",
       "\n",
       "    .dataframe tbody tr th {\n",
       "        vertical-align: top;\n",
       "    }\n",
       "\n",
       "    .dataframe thead th {\n",
       "        text-align: right;\n",
       "    }\n",
       "</style>\n",
       "<table border=\"1\" class=\"dataframe\">\n",
       "  <thead>\n",
       "    <tr style=\"text-align: right;\">\n",
       "      <th></th>\n",
       "      <th>ID</th>\n",
       "      <th>frag_1</th>\n",
       "      <th>frag_2</th>\n",
       "      <th>h_bond_distance</th>\n",
       "    </tr>\n",
       "  </thead>\n",
       "  <tbody>\n",
       "    <tr>\n",
       "      <th>0</th>\n",
       "      <td>TRAIN_0000000</td>\n",
       "      <td>TLGR</td>\n",
       "      <td>VALV</td>\n",
       "      <td>15.0</td>\n",
       "    </tr>\n",
       "    <tr>\n",
       "      <th>1</th>\n",
       "      <td>TRAIN_0000001</td>\n",
       "      <td>AILTCPF</td>\n",
       "      <td>GRIVPRF</td>\n",
       "      <td>20.0</td>\n",
       "    </tr>\n",
       "    <tr>\n",
       "      <th>2</th>\n",
       "      <td>TRAIN_0000002</td>\n",
       "      <td>LRLSCA</td>\n",
       "      <td>MQLYVT</td>\n",
       "      <td>17.0</td>\n",
       "    </tr>\n",
       "    <tr>\n",
       "      <th>3</th>\n",
       "      <td>TRAIN_0000003</td>\n",
       "      <td>TASVVCLLNN</td>\n",
       "      <td>SLTLTSSLSY</td>\n",
       "      <td>25.0</td>\n",
       "    </tr>\n",
       "    <tr>\n",
       "      <th>4</th>\n",
       "      <td>TRAIN_0000004</td>\n",
       "      <td>VKLYL</td>\n",
       "      <td>ILVSD</td>\n",
       "      <td>19.0</td>\n",
       "    </tr>\n",
       "    <tr>\n",
       "      <th>...</th>\n",
       "      <td>...</td>\n",
       "      <td>...</td>\n",
       "      <td>...</td>\n",
       "      <td>...</td>\n",
       "    </tr>\n",
       "    <tr>\n",
       "      <th>1699062</th>\n",
       "      <td>TRAIN_1699062</td>\n",
       "      <td>LMLVHYEGYL</td>\n",
       "      <td>IELLDINFIL</td>\n",
       "      <td>24.0</td>\n",
       "    </tr>\n",
       "    <tr>\n",
       "      <th>1699063</th>\n",
       "      <td>TRAIN_1699063</td>\n",
       "      <td>MLIT</td>\n",
       "      <td>IFPV</td>\n",
       "      <td>16.0</td>\n",
       "    </tr>\n",
       "    <tr>\n",
       "      <th>1699064</th>\n",
       "      <td>TRAIN_1699064</td>\n",
       "      <td>IYLGRYEGWYS</td>\n",
       "      <td>MYNEESVWTVV</td>\n",
       "      <td>24.0</td>\n",
       "    </tr>\n",
       "    <tr>\n",
       "      <th>1699065</th>\n",
       "      <td>TRAIN_1699065</td>\n",
       "      <td>KFWLIYTD</td>\n",
       "      <td>CTTLYNHC</td>\n",
       "      <td>21.0</td>\n",
       "    </tr>\n",
       "    <tr>\n",
       "      <th>1699066</th>\n",
       "      <td>TRAIN_1699066</td>\n",
       "      <td>GFALVYS</td>\n",
       "      <td>PMILVGN</td>\n",
       "      <td>19.0</td>\n",
       "    </tr>\n",
       "  </tbody>\n",
       "</table>\n",
       "<p>1699067 rows × 4 columns</p>\n",
       "</div>"
      ],
      "text/plain": [
       "                    ID       frag_1       frag_2  h_bond_distance\n",
       "0        TRAIN_0000000         TLGR         VALV             15.0\n",
       "1        TRAIN_0000001      AILTCPF      GRIVPRF             20.0\n",
       "2        TRAIN_0000002       LRLSCA       MQLYVT             17.0\n",
       "3        TRAIN_0000003   TASVVCLLNN   SLTLTSSLSY             25.0\n",
       "4        TRAIN_0000004        VKLYL        ILVSD             19.0\n",
       "...                ...          ...          ...              ...\n",
       "1699062  TRAIN_1699062   LMLVHYEGYL   IELLDINFIL             24.0\n",
       "1699063  TRAIN_1699063         MLIT         IFPV             16.0\n",
       "1699064  TRAIN_1699064  IYLGRYEGWYS  MYNEESVWTVV             24.0\n",
       "1699065  TRAIN_1699065     KFWLIYTD     CTTLYNHC             21.0\n",
       "1699066  TRAIN_1699066      GFALVYS      PMILVGN             19.0\n",
       "\n",
       "[1699067 rows x 4 columns]"
      ]
     },
     "execution_count": 19,
     "metadata": {},
     "output_type": "execute_result"
    }
   ],
   "source": [
    "df = pd.read_csv('train.csv')\n",
    "df"
   ]
  },
  {
   "cell_type": "markdown",
   "metadata": {},
   "source": [
    "Dataset Info.\n",
    "\n",
    "train.csv [파일]\n",
    "\n",
    "ID : 부여번호\n",
    "\n",
    "frag_1 : Protein 조각 sequence 1\n",
    "\n",
    "frag_2 : Protein 조각 sequence 2\n",
    "\n",
    "h_bond_distance : Hydrogen bond distance (Target)\n",
    "\n",
    "------------------------\n",
    "test.csv [파일]\n",
    "\n",
    "ID : 부여번호\n",
    "\n",
    "frag_1 : Protein 조각 sequence 1\n",
    "\n",
    "frag_2 : Protein 조각 sequence 2\n",
    "\n",
    "-----------------------\n",
    "sample_submission.csv [제출양식]\n",
    "\n",
    "ID : 부여번호\n",
    "\n",
    "h_bond_distance : 예측한 Hydrogen bond distance (Target)\n"
   ]
  },
  {
   "cell_type": "code",
   "execution_count": 20,
   "metadata": {},
   "outputs": [
    {
     "name": "stdout",
     "output_type": "stream",
     "text": [
      "<class 'pandas.core.frame.DataFrame'>\n",
      "RangeIndex: 1699067 entries, 0 to 1699066\n",
      "Data columns (total 4 columns):\n",
      " #   Column           Dtype  \n",
      "---  ------           -----  \n",
      " 0   ID               object \n",
      " 1   frag_1           object \n",
      " 2   frag_2           object \n",
      " 3   h_bond_distance  float64\n",
      "dtypes: float64(1), object(3)\n",
      "memory usage: 51.9+ MB\n"
     ]
    }
   ],
   "source": [
    "df.info()"
   ]
  },
  {
   "cell_type": "code",
   "execution_count": 21,
   "metadata": {},
   "outputs": [
    {
     "data": {
      "text/html": [
       "<div>\n",
       "<style scoped>\n",
       "    .dataframe tbody tr th:only-of-type {\n",
       "        vertical-align: middle;\n",
       "    }\n",
       "\n",
       "    .dataframe tbody tr th {\n",
       "        vertical-align: top;\n",
       "    }\n",
       "\n",
       "    .dataframe thead th {\n",
       "        text-align: right;\n",
       "    }\n",
       "</style>\n",
       "<table border=\"1\" class=\"dataframe\">\n",
       "  <thead>\n",
       "    <tr style=\"text-align: right;\">\n",
       "      <th></th>\n",
       "      <th>h_bond_distance</th>\n",
       "    </tr>\n",
       "  </thead>\n",
       "  <tbody>\n",
       "    <tr>\n",
       "      <th>count</th>\n",
       "      <td>1.699067e+06</td>\n",
       "    </tr>\n",
       "    <tr>\n",
       "      <th>mean</th>\n",
       "      <td>1.929865e+01</td>\n",
       "    </tr>\n",
       "    <tr>\n",
       "      <th>std</th>\n",
       "      <td>3.972532e+00</td>\n",
       "    </tr>\n",
       "    <tr>\n",
       "      <th>min</th>\n",
       "      <td>4.000000e+00</td>\n",
       "    </tr>\n",
       "    <tr>\n",
       "      <th>25%</th>\n",
       "      <td>1.700000e+01</td>\n",
       "    </tr>\n",
       "    <tr>\n",
       "      <th>50%</th>\n",
       "      <td>1.900000e+01</td>\n",
       "    </tr>\n",
       "    <tr>\n",
       "      <th>75%</th>\n",
       "      <td>2.100000e+01</td>\n",
       "    </tr>\n",
       "    <tr>\n",
       "      <th>max</th>\n",
       "      <td>3.700000e+01</td>\n",
       "    </tr>\n",
       "  </tbody>\n",
       "</table>\n",
       "</div>"
      ],
      "text/plain": [
       "       h_bond_distance\n",
       "count     1.699067e+06\n",
       "mean      1.929865e+01\n",
       "std       3.972532e+00\n",
       "min       4.000000e+00\n",
       "25%       1.700000e+01\n",
       "50%       1.900000e+01\n",
       "75%       2.100000e+01\n",
       "max       3.700000e+01"
      ]
     },
     "execution_count": 21,
     "metadata": {},
     "output_type": "execute_result"
    }
   ],
   "source": [
    "df.describe()"
   ]
  },
  {
   "cell_type": "code",
   "execution_count": 22,
   "metadata": {},
   "outputs": [
    {
     "data": {
      "text/plain": [
       "frag_1\n",
       "FSGSGS        3333\n",
       "TAALGCLVKD    3140\n",
       "TASVVCLLNN    2936\n",
       "FTISRD        2639\n",
       "SQESV         2625\n",
       "              ... \n",
       "SATALV           1\n",
       "TVSFLQP          1\n",
       "VHAFPALL         1\n",
       "GVMGVQIR         1\n",
       "IEVVSM           1\n",
       "Name: count, Length: 255078, dtype: int64"
      ]
     },
     "execution_count": 22,
     "metadata": {},
     "output_type": "execute_result"
    }
   ],
   "source": [
    "df['frag_1'].value_counts()"
   ]
  },
  {
   "cell_type": "code",
   "execution_count": 23,
   "metadata": {},
   "outputs": [
    {
     "data": {
      "text/plain": [
       "frag_2\n",
       "ITLTFD         3884\n",
       "PVTVVSSLSY     3194\n",
       "SLTLTSSLSY     2978\n",
       "SSLSY          2586\n",
       "KKDVKT         2573\n",
       "               ... \n",
       "DFEIWGMVGRA       1\n",
       "RVPQ              1\n",
       "KVAC              1\n",
       "LFNNWE            1\n",
       "VYFKVT            1\n",
       "Name: count, Length: 260058, dtype: int64"
      ]
     },
     "execution_count": 23,
     "metadata": {},
     "output_type": "execute_result"
    }
   ],
   "source": [
    "df['frag_2'].value_counts()"
   ]
  },
  {
   "cell_type": "code",
   "execution_count": 24,
   "metadata": {},
   "outputs": [
    {
     "name": "stdout",
     "output_type": "stream",
     "text": [
      "[LightGBM] [Info] Auto-choosing col-wise multi-threading, the overhead of testing was 19.926187 seconds.\n",
      "You can set `force_col_wise=true` to remove the overhead.\n",
      "[LightGBM] [Info] Total Bins 661693\n",
      "[LightGBM] [Info] Number of data points in the train set: 1359253, number of used features: 9631\n",
      "[LightGBM] [Info] Start training from score 19.297520\n",
      "RMSLE: 0.1089\n"
     ]
    }
   ],
   "source": [
    "from sklearn.feature_extraction.text import TfidfVectorizer\n",
    "from sklearn.model_selection import train_test_split\n",
    "from lightgbm import LGBMRegressor\n",
    "from sklearn.metrics import mean_squared_log_error\n",
    "import numpy as np\n",
    "\n",
    "# 올바르게 fit된 vectorizer 사용\n",
    "frag_all_train = df['frag_1'] + \" \" + df['frag_2']\n",
    "\n",
    "# 벡터화\n",
    "tfidf = TfidfVectorizer(analyzer='char', ngram_range=(2, 3))\n",
    "X_df = tfidf.fit_transform(frag_all_train)\n",
    "y = df['h_bond_distance']\n",
    "\n",
    "# 학습/검증 분리\n",
    "X_train, X_val, y_train, y_val = train_test_split(X_df, y, test_size=0.2, random_state=42)\n",
    "\n",
    "# 모델 학습\n",
    "model = LGBMRegressor()\n",
    "model.fit(X_train, y_train)\n",
    "\n",
    "# 평가\n",
    "preds = model.predict(X_val)\n",
    "rmsle = np.sqrt(mean_squared_log_error(y_val, preds))\n",
    "print(f\"RMSLE: {rmsle:.4f}\")"
   ]
  },
  {
   "cell_type": "code",
   "execution_count": 25,
   "metadata": {},
   "outputs": [
    {
     "data": {
      "text/html": [
       "<div>\n",
       "<style scoped>\n",
       "    .dataframe tbody tr th:only-of-type {\n",
       "        vertical-align: middle;\n",
       "    }\n",
       "\n",
       "    .dataframe tbody tr th {\n",
       "        vertical-align: top;\n",
       "    }\n",
       "\n",
       "    .dataframe thead th {\n",
       "        text-align: right;\n",
       "    }\n",
       "</style>\n",
       "<table border=\"1\" class=\"dataframe\">\n",
       "  <thead>\n",
       "    <tr style=\"text-align: right;\">\n",
       "      <th></th>\n",
       "      <th>ID</th>\n",
       "      <th>frag_1</th>\n",
       "      <th>frag_2</th>\n",
       "    </tr>\n",
       "  </thead>\n",
       "  <tbody>\n",
       "    <tr>\n",
       "      <th>0</th>\n",
       "      <td>TEST_000000</td>\n",
       "      <td>VVLASA</td>\n",
       "      <td>FKVVNV</td>\n",
       "    </tr>\n",
       "    <tr>\n",
       "      <th>1</th>\n",
       "      <td>TEST_000001</td>\n",
       "      <td>FNLR</td>\n",
       "      <td>GITY</td>\n",
       "    </tr>\n",
       "    <tr>\n",
       "      <th>2</th>\n",
       "      <td>TEST_000002</td>\n",
       "      <td>IIMD</td>\n",
       "      <td>WHLD</td>\n",
       "    </tr>\n",
       "    <tr>\n",
       "      <th>3</th>\n",
       "      <td>TEST_000003</td>\n",
       "      <td>DFSE</td>\n",
       "      <td>QMEA</td>\n",
       "    </tr>\n",
       "    <tr>\n",
       "      <th>4</th>\n",
       "      <td>TEST_000004</td>\n",
       "      <td>VLLR</td>\n",
       "      <td>AVLA</td>\n",
       "    </tr>\n",
       "    <tr>\n",
       "      <th>...</th>\n",
       "      <td>...</td>\n",
       "      <td>...</td>\n",
       "      <td>...</td>\n",
       "    </tr>\n",
       "    <tr>\n",
       "      <th>163532</th>\n",
       "      <td>TEST_163532</td>\n",
       "      <td>GMVRCDTA</td>\n",
       "      <td>GYYGDGGQ</td>\n",
       "    </tr>\n",
       "    <tr>\n",
       "      <th>163533</th>\n",
       "      <td>TEST_163533</td>\n",
       "      <td>EMTFFSVKNIKKKLP</td>\n",
       "      <td>TIKDKVKMPIRKILF</td>\n",
       "    </tr>\n",
       "    <tr>\n",
       "      <th>163534</th>\n",
       "      <td>TEST_163534</td>\n",
       "      <td>SQESV</td>\n",
       "      <td>SSLSY</td>\n",
       "    </tr>\n",
       "    <tr>\n",
       "      <th>163535</th>\n",
       "      <td>TEST_163535</td>\n",
       "      <td>GYIH</td>\n",
       "      <td>YDIK</td>\n",
       "    </tr>\n",
       "    <tr>\n",
       "      <th>163536</th>\n",
       "      <td>TEST_163536</td>\n",
       "      <td>ILVLA</td>\n",
       "      <td>KLFIF</td>\n",
       "    </tr>\n",
       "  </tbody>\n",
       "</table>\n",
       "<p>163537 rows × 3 columns</p>\n",
       "</div>"
      ],
      "text/plain": [
       "                 ID           frag_1           frag_2\n",
       "0       TEST_000000           VVLASA           FKVVNV\n",
       "1       TEST_000001             FNLR             GITY\n",
       "2       TEST_000002             IIMD             WHLD\n",
       "3       TEST_000003             DFSE             QMEA\n",
       "4       TEST_000004             VLLR             AVLA\n",
       "...             ...              ...              ...\n",
       "163532  TEST_163532         GMVRCDTA         GYYGDGGQ\n",
       "163533  TEST_163533  EMTFFSVKNIKKKLP  TIKDKVKMPIRKILF\n",
       "163534  TEST_163534            SQESV            SSLSY\n",
       "163535  TEST_163535             GYIH             YDIK\n",
       "163536  TEST_163536            ILVLA            KLFIF\n",
       "\n",
       "[163537 rows x 3 columns]"
      ]
     },
     "execution_count": 25,
     "metadata": {},
     "output_type": "execute_result"
    }
   ],
   "source": [
    "tdf = pd.read_csv('test.csv')\n",
    "tdf"
   ]
  },
  {
   "cell_type": "code",
   "execution_count": 26,
   "metadata": {},
   "outputs": [],
   "source": [
    "# 올바르게 fit된 vectorizer 사용\n",
    "frag_all_test = tdf['frag_1'] + \" \" + tdf['frag_2']\n",
    "\n",
    "# 벡터화\n",
    "X_whatiwant = tfidf.transform(frag_all_test)"
   ]
  },
  {
   "cell_type": "code",
   "execution_count": 27,
   "metadata": {},
   "outputs": [
    {
     "name": "stdout",
     "output_type": "stream",
     "text": [
      "🌞Complete\n"
     ]
    }
   ],
   "source": [
    "preds = model.predict(X_whatiwant)\n",
    "\n",
    "\n",
    "submission = pd.DataFrame({\n",
    "    'ID': tdf['ID'],\n",
    "    'h_bond_distance': preds\n",
    "})\n",
    "submission.to_csv('submission.csv', index=False)\n",
    "print(\"🌞Complete\")"
   ]
  }
 ],
 "metadata": {
  "kernelspec": {
   "display_name": "base",
   "language": "python",
   "name": "python3"
  },
  "language_info": {
   "codemirror_mode": {
    "name": "ipython",
    "version": 3
   },
   "file_extension": ".py",
   "mimetype": "text/x-python",
   "name": "python",
   "nbconvert_exporter": "python",
   "pygments_lexer": "ipython3",
   "version": "3.12.7"
  }
 },
 "nbformat": 4,
 "nbformat_minor": 2
}
