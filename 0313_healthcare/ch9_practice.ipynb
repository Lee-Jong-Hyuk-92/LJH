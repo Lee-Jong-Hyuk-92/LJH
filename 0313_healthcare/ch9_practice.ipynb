{
 "cells": [
  {
   "cell_type": "code",
   "execution_count": 1,
   "metadata": {
    "colab": {
     "base_uri": "https://localhost:8080/"
    },
    "executionInfo": {
     "elapsed": 2061,
     "status": "ok",
     "timestamp": 1741851473415,
     "user": {
      "displayName": "Hyuk E",
      "userId": "11348406996141625940"
     },
     "user_tz": -540
    },
    "id": "ljQFf0dD4vMS",
    "outputId": "c0717d96-9ae6-4462-f62e-c17c7ef383b6"
   },
   "outputs": [
    {
     "data": {
      "text/plain": [
       "(66281, 4)"
      ]
     },
     "execution_count": 1,
     "metadata": {},
     "output_type": "execute_result"
    }
   ],
   "source": [
    "import numpy as np\n",
    "import pandas as pd\n",
    "import matplotlib.pyplot as plt\n",
    "\n",
    "pd.set_option('display.notebook_repr_html', False)\n",
    "\n",
    "act = pd.read_csv('OTg6QzA_activities.csv') #불러온 파일 이름이 act\n",
    "act.shape # 데이터 구조, 행열 크기 알아보기"
   ]
  },
  {
   "cell_type": "code",
   "execution_count": 3,
   "metadata": {
    "colab": {
     "base_uri": "https://localhost:8080/",
     "height": 89
    },
    "executionInfo": {
     "elapsed": 184,
     "status": "ok",
     "timestamp": 1741851473602,
     "user": {
      "displayName": "Hyuk E",
      "userId": "11348406996141625940"
     },
     "user_tz": -540
    },
    "id": "NKTRnfCT5EuK",
    "outputId": "c46ec5d7-30f0-486d-8696-db9383ae3662"
   },
   "outputs": [
    {
     "data": {
      "text/plain": [
       "                 timestamp   X   Y   Z              p_timestamp   p_x   p_y  \\\n",
       "0  2022-01-01 00:01:40.363  33  76  56                     None   NaN   NaN   \n",
       "1  2022-01-01 00:01:42.961  34  87  56  2022-01-01 00:01:40.363  33.0  76.0   \n",
       "2  2022-01-01 00:01:45.562  25  89  47  2022-01-01 00:01:42.961  34.0  87.0   \n",
       "3  2022-01-01 00:01:48.163  11  70  50  2022-01-01 00:01:45.562  25.0  89.0   \n",
       "4  2022-01-01 00:02:08.864  33  72  58  2022-01-01 00:01:48.163  11.0  70.0   \n",
       "\n",
       "    p_z  \n",
       "0   NaN  \n",
       "1  56.0  \n",
       "2  56.0  \n",
       "3  47.0  \n",
       "4  50.0  "
      ]
     },
     "execution_count": 3,
     "metadata": {},
     "output_type": "execute_result"
    }
   ],
   "source": [
    "# 거리 및 속도 산출을 위해, 직전 데이터(t-1)를 새로운 열에 추가함\n",
    "# shift(1)로 timestamp열값이 하나씩 아래로 이동된다.\n",
    "act['p_timestamp'] = act['timestamp'].shift(1) # timestamp의 값을 p_timestamp에 한칸씩 밀어서 저장\n",
    "act['p_x'] = act['X'].shift(1) # X의 값을 p_x에 한칸씩 밀어서 저장\n",
    "act['p_y'] = act['Y'].shift(1) # Y도 동일하게\n",
    "act['p_z'] = act['Z'].shift(1) # Z도 동일하게\n",
    "act.head(5) # 불러온 데이터에서 한칸씩 시프트한 열을 추가"
   ]
  },
  {
   "cell_type": "code",
   "execution_count": 4,
   "metadata": {
    "executionInfo": {
     "elapsed": 16,
     "status": "ok",
     "timestamp": 1741851473619,
     "user": {
      "displayName": "Hyuk E",
      "userId": "11348406996141625940"
     },
     "user_tz": -540
    },
    "id": "nxETj5Yi5G4K"
   },
   "outputs": [],
   "source": [
    "cleaned = act.dropna() # shift하면서 생긴 NaN이 있는 1행을 제거, cleaned는 데이터를 불러온 act에서 shift한뒤 p_timestamp, p_x, p_y, p_z열이 추가된 상태에서 1행 NaN을 지운 데이터"
   ]
  },
  {
   "cell_type": "code",
   "execution_count": 5,
   "metadata": {
    "colab": {
     "base_uri": "https://localhost:8080/"
    },
    "executionInfo": {
     "elapsed": 915,
     "status": "ok",
     "timestamp": 1741851474537,
     "user": {
      "displayName": "Hyuk E",
      "userId": "11348406996141625940"
     },
     "user_tz": -540
    },
    "id": "oT1KLuut5Ija",
    "outputId": "3559994d-8778-4487-cd52-c094273050d1"
   },
   "outputs": [
    {
     "name": "stderr",
     "output_type": "stream",
     "text": [
      "C:\\Users\\302-1\\AppData\\Local\\Temp\\ipykernel_10216\\2254831757.py:10: SettingWithCopyWarning: \n",
      "A value is trying to be set on a copy of a slice from a DataFrame.\n",
      "Try using .loc[row_indexer,col_indexer] = value instead\n",
      "\n",
      "See the caveats in the documentation: https://pandas.pydata.org/pandas-docs/stable/user_guide/indexing.html#returning-a-view-versus-a-copy\n",
      "  cleaned.loc[:,'dist'] = cleaned.loc[:, ['X','p_x', 'Y', 'p_y', 'Z', 'p_z']].apply(calc_dist, axis=1)\n"
     ]
    }
   ],
   "source": [
    "# 두 지점 간의 거리차이를 dist 열에 추가\n",
    "\n",
    "# 거리 계산 함수\n",
    "def calc_dist(df):\n",
    "  x_d = df['X'] - df['p_x'] # x 변화량\n",
    "  y_d = df['Y'] - df['p_y'] # y 변화량\n",
    "  z_d = df['Z'] - df['p_z'] # z 변화량\n",
    "  return np.sqrt(x_d**2 + y_d**2 + z_d**2)  #지금과 이전 좌표의 거리차이\n",
    "\n",
    "cleaned.loc[:,'dist'] = cleaned.loc[:, ['X','p_x', 'Y', 'p_y', 'Z', 'p_z']].apply(calc_dist, axis=1)"
   ]
  },
  {
   "cell_type": "code",
   "execution_count": 6,
   "metadata": {
    "colab": {
     "base_uri": "https://localhost:8080/"
    },
    "executionInfo": {
     "elapsed": 1449,
     "status": "ok",
     "timestamp": 1741851476015,
     "user": {
      "displayName": "Hyuk E",
      "userId": "11348406996141625940"
     },
     "user_tz": -540
    },
    "id": "kVq6tyA95Kn6",
    "outputId": "eeaeadf7-993a-450b-a9dd-ec70aeaf7193"
   },
   "outputs": [
    {
     "name": "stderr",
     "output_type": "stream",
     "text": [
      "C:\\Users\\302-1\\AppData\\Local\\Temp\\ipykernel_10216\\3471971512.py:10: SettingWithCopyWarning: \n",
      "A value is trying to be set on a copy of a slice from a DataFrame.\n",
      "Try using .loc[row_indexer,col_indexer] = value instead\n",
      "\n",
      "See the caveats in the documentation: https://pandas.pydata.org/pandas-docs/stable/user_guide/indexing.html#returning-a-view-versus-a-copy\n",
      "  cleaned['d_time'] = cleaned[[\"timestamp\",\"p_timestamp\"]].apply(calc_timediff, axis=1) # cleaned 데이터에 새로운 d_time에 저장\n"
     ]
    }
   ],
   "source": [
    "# 포인트간 시간차이을, d_time 열에 저장\n",
    "from datetime import datetime\n",
    "\n",
    "# 시간차이 구하는 함수\n",
    "def calc_timediff(df):\n",
    "  d1 = datetime.strptime(df['timestamp'], \"%Y-%m-%d %H:%M:%S.%f\") # 기존 데이터\n",
    "  d2 = datetime.strptime(df['p_timestamp'], \"%Y-%m-%d %H:%M:%S.%f\") # 기존데이터에서 1칸 shift한것\n",
    "  return (d1 - d2).total_seconds()\n",
    "\n",
    "cleaned['d_time'] = cleaned[[\"timestamp\",\"p_timestamp\"]].apply(calc_timediff, axis=1) # cleaned 데이터에 새로운 d_time에 저장"
   ]
  },
  {
   "cell_type": "code",
   "execution_count": 7,
   "metadata": {
    "colab": {
     "base_uri": "https://localhost:8080/"
    },
    "executionInfo": {
     "elapsed": 617,
     "status": "ok",
     "timestamp": 1741851476634,
     "user": {
      "displayName": "Hyuk E",
      "userId": "11348406996141625940"
     },
     "user_tz": -540
    },
    "id": "6PiFOJda5SaS",
    "outputId": "0bec9148-52c3-401f-b3b8-3eb8d0cd08fe"
   },
   "outputs": [
    {
     "name": "stderr",
     "output_type": "stream",
     "text": [
      "C:\\Users\\302-1\\AppData\\Local\\Temp\\ipykernel_10216\\3029486389.py:10: SettingWithCopyWarning: \n",
      "A value is trying to be set on a copy of a slice from a DataFrame.\n",
      "Try using .loc[row_indexer,col_indexer] = value instead\n",
      "\n",
      "See the caveats in the documentation: https://pandas.pydata.org/pandas-docs/stable/user_guide/indexing.html#returning-a-view-versus-a-copy\n",
      "  cleaned['calc_act'] = cleaned[[\"dist\", \"d_time\"]].apply(calc_act, axis=1) # cleaned에서 구한 dist(거리차이)와 d_time 시간차이를 인자로 전달, return calc_act를 cleaned에 'calc_act'라는 이름의 열에 저장\n"
     ]
    }
   ],
   "source": [
    "# 지금까지 근접 2개 좌표를 이용해서 구한 거리차이리, 시간차이을 이용해서 속도=거리/시간, 속도를 구하자\n",
    "\n",
    "# 속도 함수\n",
    "def calc_act(df):\n",
    "  if df['d_time'] != 0: #시간차이가 0이 아닐때만, act는 시간에따라 x,y,z 측정. 시간은 0이 아닐수밖에 없다\n",
    "    return np.abs(df['dist'] / df['d_time']) # 리턴값(속도) = 거리/시간\n",
    "  else:\n",
    "    return 0\n",
    "\n",
    "cleaned['calc_act'] = cleaned[[\"dist\", \"d_time\"]].apply(calc_act, axis=1) # cleaned에서 구한 dist(거리차이)와 d_time 시간차이를 인자로 전달, return calc_act를 cleaned에 'calc_act'라는 이름의 열에 저장"
   ]
  },
  {
   "cell_type": "code",
   "execution_count": 8,
   "metadata": {
    "colab": {
     "base_uri": "https://localhost:8080/",
     "height": 735
    },
    "executionInfo": {
     "elapsed": 681,
     "status": "ok",
     "timestamp": 1741851477313,
     "user": {
      "displayName": "Hyuk E",
      "userId": "11348406996141625940"
     },
     "user_tz": -540
    },
    "id": "QRTY54PU5UfC",
    "outputId": "3a9468aa-0793-4da1-a4a4-6eaed7170ca9"
   },
   "outputs": [
    {
     "data": {
      "text/plain": [
       "<matplotlib.collections.LineCollection at 0x1f8fa67a2a0>"
      ]
     },
     "execution_count": 8,
     "metadata": {},
     "output_type": "execute_result"
    },
    {
     "data": {
      "image/png": "[encoded data removed]",
      "text/plain": [
       "<Figure size 1000x800 with 1 Axes>"
      ]
     },
     "metadata": {},
     "output_type": "display_data"
    }
   ],
   "source": [
    "plt.rcParams['figure.figsize'] = [10, 8] # 그래프 사이즈 설정, (가로 10인치, 세로 8인치)\n",
    "cleaned.plot(y=\"calc_act\", color=\"0.4\", title=\"calculation of activity & Mean of Activity\", ylabel=\"activity [cm/sec]\", xlabel=\"time series\")\n",
    "plt.hlines(cleaned['calc_act'].mean(),  min(cleaned.index), max(cleaned.index),  color='Red', linestyle='--', linewidth=2)"
   ]
  }
 ],
 "metadata": {
  "accelerator": "GPU",
  "colab": {
   "authorship_tag": "ABX9TyNLnEsktloshEKxbSW+NupJ",
   "gpuType": "T4",
   "provenance": []
  },
  "kernelspec": {
   "display_name": "base",
   "language": "python",
   "name": "python3"
  },
  "language_info": {
   "codemirror_mode": {
    "name": "ipython",
    "version": 3
   },
   "file_extension": ".py",
   "mimetype": "text/x-python",
   "name": "python",
   "nbconvert_exporter": "python",
   "pygments_lexer": "ipython3",
   "version": "3.12.7"
  }
 },
 "nbformat": 4,
 "nbformat_minor": 0
}
