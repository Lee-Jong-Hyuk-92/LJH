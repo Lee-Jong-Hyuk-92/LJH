{
 "cells": [
  {
   "cell_type": "markdown",
   "metadata": {},
   "source": [
    "머신러닝 배우는중"
   ]
  },
  {
   "cell_type": "code",
   "execution_count": 10,
   "metadata": {},
   "outputs": [],
   "source": [
    "import pandas as pd\n",
    "import numpy as np\n",
    "import matplotlib.pyplot as plt\n",
    "from sklearn.model_selection import train_test_split # 시계열 데이터에서 쓰면 절대 X"
   ]
  },
  {
   "cell_type": "code",
   "execution_count": 11,
   "metadata": {},
   "outputs": [],
   "source": [
    "np.random.seed(2025)\n",
    "feature_data = np.random.randint(0, 10, 50)\n",
    "label_data = np.random.randint(0, 2, 50)"
   ]
  },
  {
   "cell_type": "code",
   "execution_count": 12,
   "metadata": {},
   "outputs": [],
   "source": [
    "feature_train, feature_test, label_train, label_test = train_test_split(feature_data, label_data, test_size=0.3, random_state=42)"
   ]
  },
  {
   "cell_type": "code",
   "execution_count": 13,
   "metadata": {},
   "outputs": [
    {
     "name": "stdout",
     "output_type": "stream",
     "text": [
      "feature_train :  [8 7 8 6 0 8 5 1 5 4] 35\n",
      "label_train :  [1 0 0 0 0 1 0 1 1 0] 35\n",
      "feature_test :  [4 4 5 2 3 9 3 9 9 9] 15\n",
      "label_test :  [1 1 0 1 0 1 0 0 1 1] 15\n"
     ]
    }
   ],
   "source": [
    "print('feature_train : ',feature_train[:10], len(feature_train))\n",
    "print('label_train : ',label_train[:10], len(label_train))\n",
    "print('feature_test : ',feature_test[:10], len(feature_test))\n",
    "print('label_test : ',label_test[:10], len(label_test))"
   ]
  },
  {
   "cell_type": "markdown",
   "metadata": {},
   "source": [
    "일반화 능력이 높은 모델을 만드는게 중요\n",
    "데이터 부족하면 보통 Underfitting"
   ]
  },
  {
   "cell_type": "markdown",
   "metadata": {},
   "source": [
    "교차검증 ( Cross Validation, CV )\n",
    "\n",
    "K-fold : 과적합(Overfitting, Training data에서만 좋은성능)을 피하기 위해 사용되는 가장 대표적인 교차검증방법, Train data를 몇덩어리로 나눴냐가 k\n",
    "\n",
    "성능이 거의 무조건 좋아진다, 데이터셋이 적을때 사용하면 무조건 좋다\n",
    "일반적으로 ML에서만 사용하는 기법\n",
    "훈련과정에서 지표를 뽑아낼수 있음"
   ]
  },
  {
   "cell_type": "markdown",
   "metadata": {},
   "source": [
    "EDA 가설 검증이나 모형을 적용하기 전 데이터 스스로에 대한 정보를 전달하도록 만드는 방법\n",
    "\n",
    "데이터 확인\n",
    "변수 확인 info() shape() head() tail()\n",
    "\n",
    "데이터 정제 : 대부분의 모델 결측치 허용X\n",
    "결축치 처리(NaN)\n",
    "이상치 처리(Outlier) : 시각화를 해야만 사람이 찾아낼 수 있다, 지우는게 아니다, 처리다\n",
    "\n",
    "특성(Featuer) 엔지니어링 : 데이터를 보다 유용하개 만드는 방법\n",
    "스케일링 : 표준, 정규화\n",
    "바이닝 : 연속형 데이터 -> 범주형 데이터(10~20대 -> 1, 20~30대 -> 2), 보통은 더미보다 바이닝을 많이 한다\n",
    "더미 : 범주형 -> 연속형()"
   ]
  },
  {
   "cell_type": "markdown",
   "metadata": {},
   "source": [
    "결측치 : 데이터셋에서 누락된 값\n",
    "수집과정에서 발생할 수 있음\n",
    "ML 모델 성능에 부정적인 영향을 줌\n",
    "\n",
    "isnull() isnull().sum()\n",
    "\n",
    "처리방식\n",
    "1)삭제\n",
    "    -전체삭제(열 삭제) drop()\n",
    "    -부분삭제(행 삭제) : 보통 이걸 한다 dropna()\n",
    "\n",
    "2)대체\n",
    "    -일괄대체 : 중앙값, 고정값, 최빈값 등등 mean()평균값 mode()최빈값 median()중간값, 일반적으로 데이터 수가 적은 경우\n",
    "    의료데이터 데이터 불균형, 결측 많은 경우가 많다\n",
    "    fillna()\n",
    "\n",
    "    -유사유형대체 : 중급이상 기법, 결측치가 없는 다른 데이터셋을 학습하고 이를 바탕으로 결측치를 예측하는 방식"
   ]
  },
  {
   "cell_type": "markdown",
   "metadata": {},
   "source": [
    "이상치 : 데이터 셋에서 다른 데이터와 크게 벗어난 값 (나이가 음수라던지, 키가 3m가 넘는다던지)\n",
    "\n",
    "seaborn 라이브러리 내 boxplot함수를 사용하여 이상치 확인할 수 있음\n",
    "\n",
    "boxplot(x) x는 시각화할 열\n",
    "\n",
    "처리방식\n",
    "1)단순삭제\n",
    "이상치가 Human error에 의해 발생한 경우 해당 관측치 삭제(나이값 소수인 경우)\n",
    "\n",
    "2)대체\n",
    "데이터 양이 적을경우 삭제는 데이터 부족 문제를 야기\n",
    "이상치에 해당하는 대체값 입력\n",
    "\n",
    "3)변수화\n",
    "이상치가 자연 발생한 경우\n",
    "이상치만의 유의미한 정보가 있다고 판단하여 변수화하여 활용하는 방식"
   ]
  },
  {
   "cell_type": "markdown",
   "metadata": {},
   "source": [
    "특성 엔지니어링\n",
    "새로운 특성(Feature)을 생성하는 방식\n",
    "\n",
    "날짜 , 시간\n",
    "년, 월, 일, 요일 등으로 분리하거나 시간차이 계산\n",
    ".str.split(pat, expand) pat 문자열 분할에 사용할 구분자, expand 분할된 문자열을 데이터프레임의 열로 확장할지 여부\n",
    "\n",
    "텍스트 데이터 처리\n",
    "\n",
    "상호작용 특성\n",
    "키와 몸무게를 이용 BMI feature 생성\n",
    "\n",
    "일반적으로 feature가 많으면 좋지 않다\n",
    "\n",
    "특성 선택\n",
    "- 상관 분석 : 상관관계 분석해서 중복되는 특성 제거\n",
    "- 특성 중요도(Feature Importance) : 모델 기반 특성 중요도를 사용해 특성 선택\n",
    "- 차원 축소(벡터 차원) : 차원 축소 기법을 이용해 특성의 수 줄이기, 이미지 데이터 28 by 28 = 784차원, Down Sampling, 압축\n",
    "차원축소 분산 보존율 0.95 (1에 근사하게 해서 줄이는게 목적)\n",
    "\n",
    "인공지능에서 학습은 돈!! 특허, 저작권, 전기료\n",
    "\n",
    "학습할떄 GPU 쓰고 안쓰고 차이가 엄청 난다\n",
    "\n",
    "특성 변환\n",
    "- 스케일링 : np.log() 분포가 클때, square, root\n",
    "- 바이닝\n",
    "- 더미"
   ]
  },
  {
   "cell_type": "markdown",
   "metadata": {},
   "source": [
    "상관관계\n",
    "두 변수 간의 관계를 나타내는 통계적 개념\n",
    "-1쪽 음의 상관관계\n",
    "0 독립!!\n",
    "1쪽 양의 상관관계\n",
    "\n",
    "pairplot 변수간 산점도 출력\n",
    "heatmap 피어슨 상관 계수를 사용하여 변수간의 상관관계 분석"
   ]
  }
 ],
 "metadata": {
  "kernelspec": {
   "display_name": "Python 3",
   "language": "python",
   "name": "python3"
  },
  "language_info": {
   "codemirror_mode": {
    "name": "ipython",
    "version": 3
   },
   "file_extension": ".py",
   "mimetype": "text/x-python",
   "name": "python",
   "nbconvert_exporter": "python",
   "pygments_lexer": "ipython3",
   "version": "3.12.1"
  }
 },
 "nbformat": 4,
 "nbformat_minor": 2
}
