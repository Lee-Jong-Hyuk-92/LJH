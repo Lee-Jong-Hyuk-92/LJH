{
 "cells": [
  {
   "cell_type": "code",
   "execution_count": null,
   "metadata": {},
   "outputs": [],
   "source": [
    "import pandas as pd\n",
    "import matplotlib.pyplot as plt\n",
    "import seaborn as sns\n",
    "\n",
    "import warnings\n",
    "warnings.simplefilter(action='ignore', category=FutureWarning)\n",
    "\n",
    "from sklearn.model_selection import train_test_split # 데이터 스플릿용\n",
    "from sklearn.linear_model import LogisticRegression # 로지스틱 회귀분석모델 사용\n",
    "from sklearn.metrics import accuracy_score # Accuracy 측정하려고\n",
    "from sklearn.metrics import accuracy_score, classification_report, ConfusionMatrixDisplay"
   ]
  },
  {
   "cell_type": "code",
   "execution_count": null,
   "metadata": {},
   "outputs": [],
   "source": [
    "train = pd.read_csv('train.csv')\n",
    "train # 891 * 12\n",
    "# train.info() # Name, Sex, Ticket, Cabin, Embarked : object\n",
    "# train.isnull().sum() # Age 177, Cabin 687, Embarked 2 : NaN\n",
    "\n",
    "# Sex Mapping\n",
    "train['Sex'] = train['Sex'].map({'male': 0, 'female': 1})"
   ]
  },
  {
   "cell_type": "code",
   "execution_count": null,
   "metadata": {},
   "outputs": [],
   "source": [
    "sns.countplot(x='Survived', data=train)\n",
    "plt.title('Survived (0 = Died, 1 = Survived)')\n",
    "plt.xlabel('Survived')\n",
    "plt.ylabel('Count')\n",
    "plt.xticks([0, 1], ['Died', 'Survived'])\n",
    "plt.show()"
   ]
  },
  {
   "cell_type": "code",
   "execution_count": null,
   "metadata": {},
   "outputs": [],
   "source": [
    "sns.countplot(x='Sex', hue='Survived', data=train)\n",
    "plt.title('Survival by Sex')\n",
    "plt.xlabel('Sex')\n",
    "plt.ylabel('Count')\n",
    "plt.legend(title='Survived', labels=['Died', 'Survived'])\n",
    "plt.show()"
   ]
  },
  {
   "cell_type": "code",
   "execution_count": null,
   "metadata": {},
   "outputs": [],
   "source": [
    "sns.countplot(x='SibSp', hue='Survived', data=train)\n",
    "plt.title('Survival by SibSp')\n",
    "plt.xlabel('SibSp')\n",
    "plt.ylabel('Count')\n",
    "plt.legend(title='Survived', labels=['Died', 'Survived'])\n",
    "plt.show()"
   ]
  },
  {
   "cell_type": "code",
   "execution_count": null,
   "metadata": {},
   "outputs": [],
   "source": [
    "sns.countplot(x='Parch', hue='Survived', data=train)\n",
    "plt.title('Survival by Parch')\n",
    "plt.xlabel('Parch')\n",
    "plt.ylabel('Count')\n",
    "plt.legend(title='Survived', labels=['Died', 'Survived'])\n",
    "plt.show()"
   ]
  },
  {
   "cell_type": "code",
   "execution_count": null,
   "metadata": {},
   "outputs": [],
   "source": [
    "sns.countplot(x='Pclass', hue='Survived', data=train)\n",
    "plt.title('Survival by Pclass')\n",
    "plt.xlabel('Pclass')\n",
    "plt.ylabel('Count')\n",
    "plt.legend(title='Survived', labels=['Died', 'Survived'])\n",
    "plt.show()"
   ]
  },
  {
   "cell_type": "code",
   "execution_count": null,
   "metadata": {},
   "outputs": [],
   "source": [
    "# Age NaN처리 Sex,SibSp, Parch가 같은그룹으로 묶어서 평균을 NaN에 적용\n",
    "train['Age'] = train.groupby(['Sex', 'SibSp', 'Parch'])['Age'].transform(\n",
    "    lambda x: x.fillna(x.mean())\n",
    ")\n",
    "# print(train['Age'].isnull().sum())  # 아직도 NaN 7\n",
    "# Age NaN처리 Sex,Pclass가 같은그룹으로 묶어서 평균을 NaN에 적용\n",
    "train['Age'] = train.groupby(['Sex', 'Pclass'])['Age'].transform(\n",
    "    lambda x: x.fillna(x.mean())\n",
    ")\n",
    "# print(train['Age'].isnull().sum())  # 결측 없음"
   ]
  },
  {
   "cell_type": "code",
   "execution_count": null,
   "metadata": {},
   "outputs": [],
   "source": [
    "sns.countplot(x='Age', hue='Survived', data=train)\n",
    "plt.title('Survival by Age')\n",
    "plt.xlabel('Age')\n",
    "plt.ylabel('Count')\n",
    "plt.legend(title='Survived', labels=['Died', 'Survived'])\n",
    "plt.show()"
   ]
  },
  {
   "cell_type": "code",
   "execution_count": null,
   "metadata": {},
   "outputs": [],
   "source": [
    "# Age 10살 단위로 그룹화\n",
    "train['AgeGroup_10'] = (train['Age'] // 10).astype(int)\n",
    "# 기존 Age열 제거\n",
    "train = train.drop(['Age'], axis=1) # Cabin열 너무 많은 NaN으로 drop\n",
    "\n",
    "sns.countplot(x='AgeGroup_10', hue='Survived', data=train)\n",
    "plt.title('Survival by AgeGroup_10')\n",
    "plt.xlabel('AgeGroup_10')\n",
    "plt.ylabel('Count')\n",
    "plt.legend(title='Survived', labels=['Died', 'Survived'])\n",
    "plt.show()"
   ]
  },
  {
   "cell_type": "code",
   "execution_count": null,
   "metadata": {},
   "outputs": [],
   "source": [
    "# Embarked 최빈값으로 NaN 대체\n",
    "most_common_embarked = train['Embarked'].mode()[0]\n",
    "train['Embarked'].fillna(most_common_embarked, inplace=True)\n",
    "# train.info() # Cabin 204 NaN, (Name, Ticket, Cabin, Embarked = object)\n",
    "\n",
    "# Embarked 원핫인코딩\n",
    "embarked_dummies = pd.get_dummies(train['Embarked'], prefix='Embarked', drop_first=True)\n",
    "# 기존 train 데이터에 합치기\n",
    "train = pd.concat([train, embarked_dummies], axis=1)\n",
    "# 기존 Embarked열 제거\n",
    "train = train.drop(['Embarked'], axis=1) # Cabin열 너무 많은 NaN으로 drop\n",
    "\n",
    "sns.countplot(x='Embarked_Q', hue='Survived', data=train)\n",
    "plt.title('Survival by Embarked_Q')\n",
    "plt.xlabel('Embarked_Q')\n",
    "plt.ylabel('Count')\n",
    "plt.legend(title='Survived', labels=['Died', 'Survived'])\n",
    "plt.show()"
   ]
  },
  {
   "cell_type": "code",
   "execution_count": null,
   "metadata": {},
   "outputs": [],
   "source": [
    "sns.countplot(x='Embarked_S', hue='Survived', data=train)\n",
    "plt.title('Survival by Embarked_S')\n",
    "plt.xlabel('Embarked_S')\n",
    "plt.ylabel('Count')\n",
    "plt.legend(title='Survived', labels=['Died', 'Survived'])\n",
    "plt.show()"
   ]
  },
  {
   "cell_type": "code",
   "execution_count": null,
   "metadata": {},
   "outputs": [],
   "source": [
    "# train # 891*15\n",
    "# train.info()\n",
    "    # 3   Name         891 non-null    object\n",
    "    # 8   Ticket       891 non-null    object\n",
    "    # 10  Cabin        204 non-null    object\n",
    "    # 11  Embarked     891 non-null    object\n",
    "\n",
    "# train.isnull().sum() # Cabin 687 NaN\n",
    "train = train.drop(['Cabin','Name'], axis=1) # Cabin열 너무 많은 NaN으로 drop, Name 도 drop\n",
    "# train # 891*14\n",
    "train.info()"
   ]
  },
  {
   "cell_type": "code",
   "execution_count": null,
   "metadata": {},
   "outputs": [],
   "source": [
    "ticket_counts = train['Ticket'].value_counts()"
   ]
  },
  {
   "cell_type": "code",
   "execution_count": null,
   "metadata": {},
   "outputs": [],
   "source": [
    "# 접두사 추출: 숫자만 있는 경우 'NONE'으로\n",
    "train['TicketPrefix'] = train['Ticket'].apply(lambda x: x.split()[0] if not x.isdigit() else 'NONE')\n",
    "\n",
    "# Ticket 원핫 인코딩\n",
    "ticket_prefix_dummies = pd.get_dummies(train['TicketPrefix'], prefix='Ticket')\n",
    "train = pd.concat([train, ticket_prefix_dummies], axis=1)\n",
    "\n",
    "# train.info()\n",
    "train = train.drop(['Ticket','TicketPrefix'], axis=1) # 기존 Ticket, TickerPrefix drop\n",
    "train.info()"
   ]
  },
  {
   "cell_type": "code",
   "execution_count": null,
   "metadata": {},
   "outputs": [],
   "source": [
    "corr = train.corr()['Survived'].abs().sort_values(ascending=False) # corr에다가 Survived와 상관계수의 절대값이 높은 순서대로(내림차순) 정렬\n",
    "print(corr) # 각각의 상관계수 확인\n",
    "best = corr.index[1:15] # 0은 Survived니까 빼고\n",
    "print(best)"
   ]
  },
  {
   "cell_type": "code",
   "execution_count": null,
   "metadata": {},
   "outputs": [],
   "source": [
    "# feature 끼리의 상관관계 확인\n",
    "repeat_reduce = train[best].corr()\n",
    "\n",
    "sns.heatmap(repeat_reduce, annot=True, fmt=\".2f\", cmap=\"coolwarm\") # Heatmap 은 seaborn에서 된다\n",
    "plt.show()"
   ]
  },
  {
   "cell_type": "code",
   "execution_count": null,
   "metadata": {},
   "outputs": [],
   "source": [
    "# 중복은 없는듯, NaN값 있는지 확인\n",
    "X = train[best]\n",
    "y = train['Survived']\n",
    "# X, y 분할\n",
    "train_X, test_X, train_y, test_y = train_test_split(X, y, test_size=0.2, random_state=42)\n",
    "\n",
    "# 모델 학습\n",
    "S_model = LogisticRegression()\n",
    "S_model.fit(train_X, train_y)\n",
    "\n",
    "# 테스트 및 정확도확인\n",
    "predict_y = S_model.predict(test_X)\n",
    "accuracy = accuracy_score(test_y, predict_y)\n",
    "print(f\"\\n\\n\\nLogistic Regression Model's Accuracy : {accuracy:.4f}\\n\\n\\n\")"
   ]
  },
  {
   "cell_type": "code",
   "execution_count": null,
   "metadata": {},
   "outputs": [],
   "source": [
    "# 실제 test 데이터 준비 (PassengerId 필요)\n",
    "test = pd.read_csv('test.csv')\n",
    "test_ids = test['PassengerId']\n",
    "\n",
    "test.isnull().sum()\n",
    "# Name Sex Ticket Cabin Embarked : object\n",
    "# Age 86, Fare 1, Cabin 327 : NaN\n",
    "\n",
    "print(test['Age'].value_counts())"
   ]
  },
  {
   "cell_type": "code",
   "execution_count": null,
   "metadata": {},
   "outputs": [],
   "source": [
    "# 전처리 (학습 때와 동일하게)\n",
    "test['Sex'] = test['Sex'].map({'male': 0, 'female': 1})"
   ]
  },
  {
   "cell_type": "code",
   "execution_count": null,
   "metadata": {},
   "outputs": [],
   "source": [
    "# Age NaN처리 Sex,SibSp, Parch가 같은그룹으로 묶어서 평균을 NaN에 적용\n",
    "test['Age'] = test.groupby(['Sex', 'SibSp', 'Parch'])['Age'].transform(\n",
    "    lambda x: x.fillna(x.mean())\n",
    ")\n",
    "test['Age'] = test.groupby(['Sex', 'Pclass'])['Age'].transform(\n",
    "    lambda x: x.fillna(x.mean())\n",
    ")\n",
    "# Age 10살 단위로 그룹화\n",
    "test['AgeGroup_10'] = (test['Age'] // 10).astype(int)\n",
    "# 기존 Age열 제거\n",
    "test = test.drop(['Age'], axis=1)\n",
    "\n",
    "test.isnull().sum()"
   ]
  },
  {
   "cell_type": "code",
   "execution_count": null,
   "metadata": {},
   "outputs": [],
   "source": [
    "# Embarked 최빈값으로 NaN 대체\n",
    "most_common_embarked = test['Embarked'].mode()[0]\n",
    "test['Embarked'].fillna(most_common_embarked, inplace=True)\n",
    "# Embarked 원핫인코딩\n",
    "embarked_dummies = pd.get_dummies(test['Embarked'], prefix='Embarked', drop_first=True)\n",
    "# 기존 test 데이터에 합치기\n",
    "test = pd.concat([test, embarked_dummies], axis=1)\n",
    "# 기존 Embarked열 제거\n",
    "test = test.drop(['Embarked'], axis=1)\n",
    "# Cabin열 너무 많은 NaN으로 drop, Name 도 drop\n",
    "test = test.drop(['Cabin','Name'], axis=1)\n",
    "# 접두사 추출: 숫자만 있는 경우 'NONE'으로\n",
    "test['TicketPrefix'] = test['Ticket'].apply(lambda x: x.split()[0] if not x.isdigit() else 'NONE')\n",
    "# Ticket 원핫 인코딩\n",
    "ticket_prefix_dummies = pd.get_dummies(test['TicketPrefix'], prefix='Ticket')\n",
    "test = pd.concat([test, ticket_prefix_dummies], axis=1)"
   ]
  },
  {
   "cell_type": "code",
   "execution_count": null,
   "metadata": {},
   "outputs": [],
   "source": [
    "most_common_Fare = test['Fare'].mode()[0]\n",
    "test['Fare'].fillna(most_common_Fare, inplace=True)"
   ]
  },
  {
   "cell_type": "code",
   "execution_count": null,
   "metadata": {},
   "outputs": [],
   "source": [
    "# 사용한 피처만 선택 (X.columns 그대로 사용)\n",
    "test_X = test[X.columns]\n",
    "\n",
    "# 예측\n",
    "submission_preds = S_model.predict(test_X)\n",
    "\n",
    "# 제출 파일 생성\n",
    "submission = pd.DataFrame({\n",
    "    'PassengerId': test['PassengerId'],\n",
    "    'Survived': submission_preds\n",
    "})\n",
    "# submission.to_csv('/kaggle/working/submission.csv', index=False)\n",
    "submission.to_csv('submission.csv', index=False)\n",
    "print(\"submission.csv 저장 완료!\")"
   ]
  }
 ],
 "metadata": {
  "kernelspec": {
   "display_name": "base",
   "language": "python",
   "name": "python3"
  },
  "language_info": {
   "codemirror_mode": {
    "name": "ipython",
    "version": 3
   },
   "file_extension": ".py",
   "mimetype": "text/x-python",
   "name": "python",
   "nbconvert_exporter": "python",
   "pygments_lexer": "ipython3",
   "version": "3.12.7"
  }
 },
 "nbformat": 4,
 "nbformat_minor": 2
}
