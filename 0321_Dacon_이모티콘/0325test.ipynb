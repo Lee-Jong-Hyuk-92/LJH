{
 "cells": [
  {
   "cell_type": "code",
   "execution_count": null,
   "metadata": {},
   "outputs": [
    {
     "data": {
      "text/plain": [
       "PassengerId      0\n",
       "Survived         0\n",
       "Pclass           0\n",
       "Name             0\n",
       "Sex              0\n",
       "Age            177\n",
       "SibSp            0\n",
       "Parch            0\n",
       "Ticket           0\n",
       "Fare             0\n",
       "Cabin          687\n",
       "Embarked         2\n",
       "dtype: int64"
      ]
     },
     "execution_count": 279,
     "metadata": {},
     "output_type": "execute_result"
    }
   ],
   "source": [
    "import pandas as pd\n",
    "import matplotlib.pyplot as plt\n",
    "import seaborn as sns\n",
    "from sklearn.model_selection import train_test_split\n",
    "from sklearn.linear_model import LogisticRegression\n",
    "from sklearn.metrics import accuracy_score, classification_report, ConfusionMatrixDisplay\n",
    "\n",
    "# 1. 데이터 불러오기\n",
    "df = pd.read_csv('/kaggle/input/titanic/train.csv')\n",
    "\n",
    "df.isnull().sum()"
   ]
  },
  {
   "cell_type": "code",
   "execution_count": 280,
   "metadata": {},
   "outputs": [],
   "source": [
    "# 성별 숫자로 매핑\n",
    "df['Sex'] = df['Sex'].map({'male': 0, 'female': 1})\n",
    "\n",
    "# Age 결측 평균으로 채우기\n",
    "df['Age'] = df['Age'].fillna(df['Age'].mean())\n",
    "\n",
    "# Embarked 결측 최빈값으로 채우고 OneHot 인코딩\n",
    "df['Embarked'] = df['Embarked'].fillna(df['Embarked'].mode()[0])\n",
    "embarked_dummies = pd.get_dummies(df['Embarked'], prefix='Embarked')\n",
    "df = pd.concat([df, embarked_dummies], axis=1)\n",
    "\n",
    "# Cabin: 결측은 'M', 첫 글자만 추출 → OneHot 인코딩\n",
    "df['Cabin'] = df['Cabin'].fillna('M')\n",
    "df['Cabin_initial'] = df['Cabin'].apply(lambda x: x[0])\n",
    "cabin_dummies = pd.get_dummies(df['Cabin_initial'], prefix='Cabin')\n",
    "df = pd.concat([df, cabin_dummies], axis=1)\n",
    "\n",
    "# Ticket 원-핫 인코딩\n",
    "ticket_dummies = pd.get_dummies(df['Ticket'], prefix='Ticket')\n",
    "df = pd.concat([df, ticket_dummies], axis=1)\n",
    "\n",
    "# 피처 정리\n",
    "drop_cols = ['PassengerId', 'Name', 'Ticket', 'Cabin', 'Cabin_initial', 'Embarked', 'Survived']\n",
    "X_num = df.drop(columns=drop_cols).astype(float)\n",
    "y = df['Survived']"
   ]
  },
  {
   "cell_type": "code",
   "execution_count": 281,
   "metadata": {},
   "outputs": [
    {
     "name": "stdout",
     "output_type": "stream",
     "text": [
      "\n",
      "✅ Logistic Regression 정확도: 0.8667\n",
      "\n",
      "📊 Classification Report:\n",
      "              precision    recall  f1-score   support\n",
      "\n",
      "           0       0.89      0.89      0.89        54\n",
      "           1       0.83      0.83      0.83        36\n",
      "\n",
      "    accuracy                           0.87        90\n",
      "   macro avg       0.86      0.86      0.86        90\n",
      "weighted avg       0.87      0.87      0.87        90\n",
      "\n"
     ]
    },
    {
     "name": "stderr",
     "output_type": "stream",
     "text": [
      "c:\\Users\\302-1\\anaconda3\\Lib\\site-packages\\sklearn\\linear_model\\_logistic.py:469: ConvergenceWarning: lbfgs failed to converge (status=1):\n",
      "STOP: TOTAL NO. of ITERATIONS REACHED LIMIT.\n",
      "\n",
      "Increase the number of iterations (max_iter) or scale the data as shown in:\n",
      "    https://scikit-learn.org/stable/modules/preprocessing.html\n",
      "Please also refer to the documentation for alternative solver options:\n",
      "    https://scikit-learn.org/stable/modules/linear_model.html#logistic-regression\n",
      "  n_iter_i = _check_optimize_result(\n"
     ]
    },
    {
     "data": {
      "text/plain": [
       "<Figure size 600x400 with 0 Axes>"
      ]
     },
     "metadata": {},
     "output_type": "display_data"
    },
    {
     "data": {
      "image/png": "[encoded data removed]",
      "text/plain": [
       "<Figure size 640x480 with 2 Axes>"
      ]
     },
     "metadata": {},
     "output_type": "display_data"
    }
   ],
   "source": [
    "X_train, X_test, y_train, y_test = train_test_split(X_num, y, test_size=0.1, random_state=42)\n",
    "\n",
    "# 로지스틱 회귀 모델 학습\n",
    "model = LogisticRegression(max_iter=500)\n",
    "model.fit(X_train, y_train)\n",
    "\n",
    "# 평가\n",
    "y_pred = model.predict(X_test)\n",
    "acc = accuracy_score(y_test, y_pred)\n",
    "\n",
    "# 출력\n",
    "print(f\"\\n✅ Logistic Regression 정확도: {acc:.4f}\")\n",
    "print(\"\\n📊 Classification Report:\")\n",
    "print(classification_report(y_test, y_pred))\n",
    "\n",
    "# 11. 혼동 행렬 시각화\n",
    "plt.figure(figsize=(6, 4))\n",
    "ConfusionMatrixDisplay.from_estimator(model, X_test, y_test, cmap='Blues')\n",
    "plt.title(\"Confusion Matrix\")\n",
    "plt.grid(False)\n",
    "plt.tight_layout()\n",
    "plt.show()"
   ]
  },
  {
   "cell_type": "code",
   "execution_count": null,
   "metadata": {},
   "outputs": [
    {
     "name": "stdout",
     "output_type": "stream",
     "text": [
      "📦 submission.csv 저장 완료 ✅\n"
     ]
    }
   ],
   "source": [
    "test_df = pd.read_csv('/kaggle/input/titanic/test.csv')\n",
    "test_ids = test_df['PassengerId']\n",
    "\n",
    "# test 데이터 전처리\n",
    "test_df['Sex'] = test_df['Sex'].map({'male': 0, 'female': 1})\n",
    "test_df['Age'] = test_df['Age'].fillna(df['Age'].mean())  # train 평균\n",
    "test_df['Fare'] = test_df['Fare'].fillna(df['Fare'].mean())\n",
    "\n",
    "test_df['Embarked'] = test_df['Embarked'].fillna(test_df['Embarked'].mode()[0])\n",
    "embarked_dummies = pd.get_dummies(test_df['Embarked'], prefix='Embarked')\n",
    "test_df = pd.concat([test_df, embarked_dummies], axis=1)\n",
    "\n",
    "test_df['Cabin'] = test_df['Cabin'].fillna('M')\n",
    "test_df['Cabin_initial'] = test_df['Cabin'].apply(lambda x: x[0])\n",
    "cabin_dummies = pd.get_dummies(test_df['Cabin_initial'], prefix='Cabin')\n",
    "test_df = pd.concat([test_df, cabin_dummies], axis=1)\n",
    "\n",
    "ticket_dummies = pd.get_dummies(test_df['Ticket'], prefix='Ticket')\n",
    "test_df = pd.concat([test_df, ticket_dummies], axis=1)\n",
    "\n",
    "# 8. 피처 정리 및 열 맞추기\n",
    "drop_cols = ['Name', 'Ticket', 'Cabin', 'Cabin_initial', 'Embarked']\n",
    "X_test_final = test_df.drop(columns=drop_cols).astype(float)\n",
    "\n",
    "# [중요] 학습에 사용된 X_train과 동일한 열 순서로 맞추기\n",
    "X_test_final = X_test_final.reindex(columns=X_train.columns, fill_value=0)\n",
    "\n",
    "# 9. 예측\n",
    "submission_preds = model.predict(X_test_final)\n",
    "\n",
    "# 10. 제출 파일 생성\n",
    "submission = pd.DataFrame({\n",
    "    'PassengerId': test_ids,\n",
    "    'Survived': submission_preds\n",
    "})\n",
    "submission.to_csv('/kaggle/working/submission.csv', index=False)\n",
    "print(\"📦 submission.csv 저장 완료 ✅\")"
   ]
  }
 ],
 "metadata": {
  "kernelspec": {
   "display_name": "base",
   "language": "python",
   "name": "python3"
  },
  "language_info": {
   "codemirror_mode": {
    "name": "ipython",
    "version": 3
   },
   "file_extension": ".py",
   "mimetype": "text/x-python",
   "name": "python",
   "nbconvert_exporter": "python",
   "pygments_lexer": "ipython3",
   "version": "3.12.7"
  }
 },
 "nbformat": 4,
 "nbformat_minor": 2
}
