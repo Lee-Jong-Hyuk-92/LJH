{
 "cells": [
  {
   "cell_type": "code",
   "execution_count": null,
   "metadata": {},
   "outputs": [],
   "source": [
    "import pandas as pdd\n",
    "\n",
    "from sklearn.model_selection import train_test_split, cross_val_score, GridSearchCV\n",
    "from sklearn.feature_extraction.text import CountVectorizer\n",
    "from sklearn.naive_bayes import MultinomialNB\n",
    "from sklearn.metrics import classification_report"
   ]
  },
  {
   "cell_type": "code",
   "execution_count": 12,
   "metadata": {},
   "outputs": [],
   "source": [
    "df=pd.read_csv('train.csv') # df는 트레인용"
   ]
  },
  {
   "cell_type": "code",
   "execution_count": 13,
   "metadata": {},
   "outputs": [],
   "source": [
    "# df # label =0, 1(악성)\n",
    "# 6,995,056 rows * 3 columns"
   ]
  },
  {
   "cell_type": "code",
   "execution_count": 14,
   "metadata": {},
   "outputs": [],
   "source": [
    "# URL 텍스트를 벡터화\n",
    "vectorizer = CountVectorizer() # 텍스트에 등장하는 단어의 빈도수를 세어, 벡터형태로 변환\n",
    "X = vectorizer.fit_transform(df['URL'])\n",
    "y = df['label']"
   ]
  },
  {
   "cell_type": "code",
   "execution_count": 15,
   "metadata": {},
   "outputs": [],
   "source": [
    "X_train, X_test, y_train, y_test = train_test_split(X, y, test_size=0.1, random_state=42)"
   ]
  },
  {
   "cell_type": "code",
   "execution_count": 16,
   "metadata": {},
   "outputs": [
    {
     "data": {
      "text/plain": [
       "'\\n# alpha 튜닝 (recall 기준)\\nparam_grid = {\\n    \\'alpha\\': [0.0001, 0.001, 0.01, 0.1, 0.5, 1, 2, 5, 10]\\n}\\n\\ngrid_model = GridSearchCV(\\n    MultinomialNB(),\\n    param_grid=param_grid,\\n    scoring=\\'recall\\',\\n    cv=5,\\n    n_jobs=-1,\\n    verbose=1\\n)\\n\\ngrid_model.fit(X_train, y_train)\\n\\n# 5. 최적 모델 정보 출력\\nprint(f\"\\nBest alpha: {grid_model.best_params_[\\'alpha\\']}\")\\nprint(f\"Best cross-validated recall: {grid_model.best_score_:.4f}\")\\n\\n# 6. 검증셋에서 성능 평가\\nbest_model = grid_model.best_estimator_\\ny_pred = best_model.predict(X_test)\\n\\nprint(\"\\n[검증 셋 평가 결과]\")\\nprint(classification_report(y_test, y_pred))\\n# alpha=0.01이 best\\n'"
      ]
     },
     "execution_count": 16,
     "metadata": {},
     "output_type": "execute_result"
    }
   ],
   "source": [
    "'''\n",
    "# alpha 튜닝 (recall 기준)\n",
    "param_grid = {\n",
    "    'alpha': [0.0001, 0.001, 0.01, 0.1, 0.5, 1, 2, 5, 10]\n",
    "}\n",
    "\n",
    "grid_model = GridSearchCV(\n",
    "    MultinomialNB(),\n",
    "    param_grid=param_grid,\n",
    "    scoring='recall',\n",
    "    cv=5,\n",
    "    n_jobs=-1,\n",
    "    verbose=1\n",
    ")\n",
    "\n",
    "grid_model.fit(X_train, y_train)\n",
    "\n",
    "# 5. 최적 모델 정보 출력\n",
    "print(f\"\\nBest alpha: {grid_model.best_params_['alpha']}\")\n",
    "print(f\"Best cross-validated recall: {grid_model.best_score_:.4f}\")\n",
    "\n",
    "# 6. 검증셋에서 성능 평가\n",
    "best_model = grid_model.best_estimator_\n",
    "y_pred = best_model.predict(X_test)\n",
    "\n",
    "print(\"\\n[검증 셋 평가 결과]\")\n",
    "print(classification_report(y_test, y_pred))\n",
    "# alpha=0.01이 best\n",
    "'''"
   ]
  },
  {
   "cell_type": "code",
   "execution_count": 17,
   "metadata": {},
   "outputs": [
    {
     "name": "stdout",
     "output_type": "stream",
     "text": [
      "교차 검증 정확도 평균: 0.9570\n"
     ]
    }
   ],
   "source": [
    "# 나이브베이즈 모델로 지도학습\n",
    "model = MultinomialNB(alpha=0.01)\n",
    "model.fit(X_train, y_train)\n",
    "\n",
    "# 교차 검증 (CV: Cross Validation)\n",
    "scores = cross_val_score(model, X, y, cv=5, scoring='accuracy')\n",
    "print(f\"교차 검증 정확도 평균: {scores.mean():.4f}\")"
   ]
  },
  {
   "cell_type": "code",
   "execution_count": 21,
   "metadata": {},
   "outputs": [
    {
     "name": "stdout",
     "output_type": "stream",
     "text": [
      "\n",
      "[테스트 셋 평가 결과]\n",
      "              precision    recall  f1-score   support\n",
      "\n",
      "           0       0.97      0.98      0.97    543432\n",
      "           1       0.92      0.89      0.91    156074\n",
      "\n",
      "    accuracy                           0.96    699506\n",
      "   macro avg       0.94      0.93      0.94    699506\n",
      "weighted avg       0.96      0.96      0.96    699506\n",
      "\n"
     ]
    }
   ],
   "source": [
    "# model fit 후에 평가\n",
    "y_pred = model.predict(X_test)\n",
    "\n",
    "print(\"\\n[테스트 셋 평가 결과]\")\n",
    "print(classification_report(y_test, y_pred))"
   ]
  },
  {
   "cell_type": "code",
   "execution_count": 19,
   "metadata": {},
   "outputs": [],
   "source": [
    "test_df = pd.read_csv(\"test.csv\")"
   ]
  },
  {
   "cell_type": "code",
   "execution_count": 20,
   "metadata": {},
   "outputs": [
    {
     "name": "stdout",
     "output_type": "stream",
     "text": [
      ">>> submission.csv 저장 완료 ✅\n"
     ]
    }
   ],
   "source": [
    "# 벡터화 (훈련에 사용한 vectorizer로 변환)\n",
    "tdf = vectorizer.transform(test_df['URL'])\n",
    "\n",
    "# 확률 구하기\n",
    "y_proba = model.predict_proba(tdf)[:, 1] # label이 1인 확률만 저장\n",
    "\n",
    "# submission에 뭐 넣을지\n",
    "submission = pd.DataFrame({\n",
    "    'ID': test_df['ID'],\n",
    "    'probability': y_proba\n",
    "})\n",
    "\n",
    "# CSV로 저장\n",
    "# sample_submission.csv 제출용\n",
    "submission.to_csv(\"submission.csv\", index=False)\n",
    "print(\">>> submission.csv 저장 완료 ✅\")"
   ]
  }
 ],
 "metadata": {
  "kernelspec": {
   "display_name": "base",
   "language": "python",
   "name": "python3"
  },
  "language_info": {
   "codemirror_mode": {
    "name": "ipython",
    "version": 3
   },
   "file_extension": ".py",
   "mimetype": "text/x-python",
   "name": "python",
   "nbconvert_exporter": "python",
   "pygments_lexer": "ipython3",
   "version": "3.12.7"
  }
 },
 "nbformat": 4,
 "nbformat_minor": 2
}
